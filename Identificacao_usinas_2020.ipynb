{
 "cells": [
  {
   "cell_type": "code",
   "execution_count": 1,
   "metadata": {},
   "outputs": [],
   "source": [
    "# Importa bibliotecas\n",
    "import pandas as pd\n",
    "from datetime import date\n",
    "import numpy as np\n",
    "import pickle\n",
    "import re\n",
    "from itertools import product, combinations, permutations\n",
    "from concat_files import concat_rrvs"
   ]
  },
  {
   "cell_type": "code",
   "execution_count": 2,
   "metadata": {},
   "outputs": [],
   "source": [
    "pd.set_option('display.max_columns', None)"
   ]
  },
  {
   "cell_type": "code",
   "execution_count": 3,
   "metadata": {},
   "outputs": [],
   "source": [
    "# Valida CNPJ \n",
    "def validar_cnpj(s: pd.Series): \n",
    "    digitos = s.str.extract(r'(\\d)(\\d).(\\d)(\\d)(\\d).(\\d)(\\d)(\\d)/(\\d)(\\d)(\\d)(\\d)-').astype(np.uint8,errors=\"ignore\")\n",
    "    dv = s.str.extract(r'-(\\d)(\\d)').astype(np.uint8,errors=\"ignore\")\n",
    "    dig_1 = np.array([6,7,8,9,2,3,4,5,6,7,8,9 ],dtype=np.uint8)\n",
    "    mult1 = np.sum(np.multiply(digitos,dig_1),axis=1).astype(np.uint16)\n",
    "    res1 = np.remainder(mult1,11).astype(np.uint8)\n",
    "    res1[res1==10] = 0\n",
    "    digitos =  pd.concat([digitos,res1],axis=1)\n",
    "    dig_2 = np.array([5,6,7,8,9,2,3,4,5,6,7,8,9],dtype=np.uint8)\n",
    "    mult2 = np.sum(np.multiply(digitos,dig_2),axis=1).astype(np.uint16)\n",
    "    res2 = np.remainder(mult2,11).astype(np.uint8)\n",
    "    res2[res2==10] = 0\n",
    "    digitos =  pd.concat([digitos,res2],axis=1)\n",
    "    return ((dv[0] - res1) == 0) & ((dv[1] - res2) == 0)\n",
    "\n",
    "# Formata CNPJ\n",
    "def formatar_cnpj(s: pd.Series, check_val =False,on_error = \"pass\"): \n",
    "    s= s.apply(str).str.strip() # Transforma CPJS em string\n",
    "    s.replace(to_replace=\"\\W\", value=r\"\", regex=True,inplace=True)\n",
    "    s = s.str.pad(14,\"left\",\"0\")  # Faz padding left com zeros\n",
    "    s.replace(to_replace=\"(\\d{2})(\\d{3})(\\d{3})(\\d{4})(\\d{2})\", value=r\"\\1.\\2.\\3/\\4-\\5\", regex=True,inplace=True)\n",
    "    \n",
    "    if check_val or on_error == \"raise\":\n",
    "        invalidos  = ~validar_cnpj(s)\n",
    "        quant_errors = invalidos.count()\n",
    "        print(f\"{quant_errors} CNPJs inválidos:\")\n",
    "        display(s[invalidos])\n",
    "    if on_error == \"raise\" and quant_errors > 0:\n",
    "        raise \n",
    "    \n",
    "    return s\n",
    "\n",
    "# Normaliza nomes retirando caracteres não ascii\n",
    "def normalizar_str(s: pd.Series,no_spaces = False):\n",
    "    s = s.str.strip().str.upper()\n",
    "    s  = s.str.normalize('NFKD').str.encode('ascii', errors='ignore').str.decode('utf-8')\n",
    "    s = s.replace(to_replace=r\"\\s{1,}\", value=r\"\", regex=True)      \n",
    "    return s\n",
    "\n",
    "\n",
    "# Formata CEG\n",
    "def formatar_ceg(s: pd.Series):\n",
    "    s = s.str.strip().str.upper()\n",
    "    s.replace(to_replace=\"\\W\", value=r\"\", regex=True,inplace=True)\n",
    "    s = s.str.replace(r\"(\\w{3})(\\w{2})(\\w{2})(\\d{6})(\\d{1}).*\",r\"\\1.\\2.\\3.\\4-\\5\",regex=True)\n",
    "    return s\n",
    "\n",
    "# Extrai as seguintes informações a partir do CEG: \"Geração\",\"Fonte\",\"UF\",\"ID\",\"DV\"\n",
    "def extrair_info_ceg(s: pd.Series):\n",
    "    ceg_info = s.str.extract(\"(\\w{3}).(\\w{2}).(\\w{2}).(\\d{6})-(\\d{1})\")\n",
    "    ceg_info.columns = [\"Geração\",\"Fonte\",\"UF\",\"ID\",\"DV\"]\n",
    "    ceg_info[\"ID\"] = ceg_info[\"ID\"].astype(int) \n",
    "    return ceg_info\n",
    "\n",
    "\n",
    "\n",
    "# Junta dicionário. Retorna erro caso haja valores distintos para uma mesma chave.\n",
    "def merge_dict(dict_a,dict_b,stop_first=False):\n",
    "    keys = list(dict.fromkeys((*dict_a,*dict_b)))\n",
    "    erros = erros = {\"dict_a\":[],\"dict_b\":[]}\n",
    "    index = []\n",
    "    for key in keys:\n",
    "        if (key in dict_a) and (key in dict_b):\n",
    "            if dict_a[key] != dict_b[key]:\n",
    "                if stop_first:\n",
    "                    raise Exception(f\" dict_a[{key}] = {dict_a[key]} and dict_b[{key}] = {dict_b[key]}\")\n",
    "                else:\n",
    "                    erros[\"dict_a\"].append(dict_a[key])\n",
    "                    erros[\"dict_b\"].append(dict_b[key])\n",
    "                    index.append(key)\n",
    "    if len(erros[\"dict_a\"] + erros[\"dict_b\"]) > 1:\n",
    "        print(\"Diferenças encontradas:\")\n",
    "        display(pd.DataFrame(erros,index=index))\n",
    "        raise Exception(f\"Valores distintos para uma mesma chave.\")\n",
    "    return {**dict_a,**dict_b}\n",
    "\n",
    "\n",
    "def find_diff(df,cols):\n",
    "    mask_diff = ~pd.Series(index=rv_17.index,dtype=bool)\n",
    "    for g1 , g2 in list(permutations(cols,2)):\n",
    "        mask_diff |=  ((df[g1] != df[g2]) & (df[g1].notna() &  df[g2].notna()))\n",
    "    return mask_diff"
   ]
  },
  {
   "cell_type": "code",
   "execution_count": 4,
   "metadata": {},
   "outputs": [],
   "source": [
    "# Parâmetros de coluna\n",
    "colunas_rv_dim = ['USINA'] # Colunas necessárias para criação da tabela dimensão\n",
    "colunas_rv_fact = ['USINA',\"DATA\",\"RECEITA DE VENDA MENSAL (R$)\"] # Colunas necessárias para criação da tabela fato\n",
    "\n",
    "\n",
    "# Dicionários para renomear colunas\n",
    "dict_colunas_rv_17 = {\n",
    "                      \"EMPREENDIMENTO\":\"USINA1\",\n",
    "                      'TOTAL DA RECEITA DE VENDA (R$)':\"RECEITA DE VENDA MENSAL (R$)\",}\n",
    " #                     \"CNPJ VENDEDOR\": \"CNPJ VENDEDOR\"}"
   ]
  },
  {
   "cell_type": "code",
   "execution_count": 5,
   "metadata": {},
   "outputs": [],
   "source": [
    "rv_17 = pd.read_parquet(\"./Inputs/RV017.gzip\")\n",
    "rv_13 = pd.read_parquet(\"./Inputs/RV013.gzip\")\n",
    "relatorio_ceg_cnpj = pd.read_excel(\"./Inputs/RelatorioEmpreendimentoCEG_CNPJ.xlsx\")[['NumCnpj','CodCEG','NomEmpreendimento']]\n",
    "relatorio_ceg_cnpj.columns = ['CNPJ','CEG','USINA1'] # Renomeia colunas\n",
    "\n",
    "rv_17.dropna(how=\"all\",inplace = True) # Exclui linhas que possuam dados vazios\n",
    "rv_13.dropna(how=\"all\",inplace = True)\n",
    "rv_17.rename(columns= dict_colunas_rv_17,inplace= True)\n",
    "rv_13.rename(columns= dict_colunas_rv_17,inplace= True)\n",
    "\n",
    "rv_17[\"CNPJ VENDEDOR\"]= formatar_cnpj(rv_17[\"CNPJ VENDEDOR\"])\n",
    "rv_13[\"CNPJ VENDEDOR\"]= formatar_cnpj(rv_17[\"CNPJ VENDEDOR\"])\n",
    "del rv_17[\"Unnamed: 0\"]\n",
    "del rv_13[\"Unnamed: 0\"]"
   ]
  },
  {
   "cell_type": "code",
   "execution_count": 6,
   "metadata": {},
   "outputs": [
    {
     "name": "stdout",
     "output_type": "stream",
     "text": [
      "16303\n"
     ]
    }
   ],
   "source": [
    "# Remove linhas com numero de CEG, CNPJ e nome de USINA sejam todos iguais\n",
    "relatorio_ceg_cnpj = relatorio_ceg_cnpj.dropna(subset=[\"CEG\",\"USINA1\",\"CNPJ\"],how=\"any\")\n",
    "\n",
    "# Formata CNPJ e CEG e extrai ID, e tipo de geração\n",
    "relatorio_ceg_cnpj[\"CNPJ\"] = formatar_cnpj(relatorio_ceg_cnpj[\"CNPJ\"]) # Formata CNPJ\n",
    "relatorio_ceg_cnpj['CEG'] = formatar_ceg(relatorio_ceg_cnpj[\"CEG\"])  # Formata CEG\n",
    "relatorio_ceg_cnpj[\"ID\"] = extrair_info_ceg(relatorio_ceg_cnpj[\"CEG\"])[\"ID\"]\n",
    "relatorio_ceg_cnpj[\"Geração\"] = extrair_info_ceg(relatorio_ceg_cnpj[\"CEG\"])[\"Geração\"]\n",
    "relatorio_ceg_cnpj_copy = relatorio_ceg_cnpj.copy()\n",
    "relatorio_ceg_cnpj = relatorio_ceg_cnpj.drop_duplicates(subset=[\"ID\",\"USINA1\",\"CNPJ\"])\n",
    "\n",
    "\n",
    "\n",
    "relatorio_ceg_cnpj.USINA1 = normalizar_str(relatorio_ceg_cnpj.USINA1)\n",
    "relatorio_ceg_cnpj.USINA1= relatorio_ceg_cnpj.USINA1.replace(\"(UHE|CGH|PCH|UTE|UTN|EOL|UFV|AHE)\",\"\",regex=True)\n",
    "\n",
    "# Exemplo de uso desta expressão regular em: https://regex101.com/r/NYcNl2/1\n",
    "padrao = r'\\((?:ANTIGA)?(.*)\\)'\n",
    "\n",
    "\n",
    "relatorio_ceg_cnpj[\"USINA2\"] = relatorio_ceg_cnpj.USINA1.str.extract(padrao)[0]\n",
    "relatorio_ceg_cnpj.replace(padrao,\"\",regex=True,inplace=True)\n",
    "\n",
    "\n",
    "mask_usina2 = relatorio_ceg_cnpj.USINA2.notna()\n",
    "relatorio_ceg_cnpj[\"USINA12\"] = relatorio_ceg_cnpj.USINA1\n",
    "relatorio_ceg_cnpj.loc[mask_usina2,\"USINA12\"] = relatorio_ceg_cnpj.USINA2\n",
    "relatorio_ceg_cnpj = relatorio_ceg_cnpj.drop_duplicates(subset=[\"ID\",\"USINA2\",\"CNPJ\"])\n",
    "relatorio_ceg_cnpj = relatorio_ceg_cnpj.drop_duplicates(subset=[\"ID\",\"USINA12\",\"CNPJ\"])\n",
    "print(relatorio_ceg_cnpj.USINA1.count())"
   ]
  },
  {
   "cell_type": "code",
   "execution_count": 7,
   "metadata": {},
   "outputs": [
    {
     "name": "stdout",
     "output_type": "stream",
     "text": [
      "15659\n",
      "15925\n"
     ]
    }
   ],
   "source": [
    "relatorio_ceg_cnpj_rep = relatorio_ceg_cnpj.copy()\n",
    "ceg_rep = relatorio_ceg_cnpj[relatorio_ceg_cnpj.duplicated(subset=[\"ID\"],keep=False)].copy()\n",
    "relatorio_ceg_cnpj.drop_duplicates(subset=[\"ID\"],inplace=True,keep=\"first\")\n",
    "relatorio_ceg_cnpj = relatorio_ceg_cnpj[~(relatorio_ceg_cnpj.USINA1.duplicated(keep=False) | relatorio_ceg_cnpj.USINA12.duplicated(keep=False))].copy()\n",
    "print(relatorio_ceg_cnpj.USINA1.count())\n",
    "\n",
    "\n",
    "\n",
    "mask_cegs_repetidos_nomes_unicos = ceg_rep.ID.isin(relatorio_ceg_cnpj.ID)\n",
    "relatorio_ceg_cnpj = pd.concat([relatorio_ceg_cnpj,ceg_rep[mask_cegs_repetidos_nomes_unicos]],ignore_index=True)\n",
    "print(relatorio_ceg_cnpj.USINA1.count())\n",
    "\n",
    "relatorio_ceg_cnpj.sort_values(by=\"ID\",inplace=True)"
   ]
  },
  {
   "cell_type": "code",
   "execution_count": 8,
   "metadata": {},
   "outputs": [],
   "source": [
    "rv_17[\"USINA\"] = rv_17.USINA1\n",
    "rv_17.USINA1 = normalizar_str(rv_17.USINA1)\n",
    "rv_17[\"geracao1\"] = rv_17.USINA1.str.extract(\"(UHE|CGH|PCH|UTE|UTN|EOL|UFV)\",flags=re.IGNORECASE)\n",
    "rv_17[\"geracao2\"] = rv_17.VENDEDOR.str.extract(\"(UHE|CGH|PCH|UTE|UTN|EOL|UFV)\",flags=re.IGNORECASE)\n",
    "dict_confiabilidade_geracao = {1 : 3, 2 : 2}\n",
    "rv_17.USINA1 = rv_17.USINA1.replace(\"(UHE|CGH|PCH|UTE|UTN|EOL|UFV|AHE)\",\"\",regex=True)\n",
    "rv_17[\"USINA2\"] = rv_17.USINA1.str.extract(padrao)[0]\n",
    "rv_17.USINA1.replace(padrao,\"\",regex=True,inplace=True)\n",
    "mask_usina2 = rv_17.USINA2.notna()\n",
    "rv_17[\"USINA12\"] = rv_17.USINA1\n",
    "rv_17.loc[mask_usina2,\"USINA12\"] = rv_17.USINA2\n",
    "\n",
    "\n",
    "#############################################################\n",
    "\n",
    "rv_13[\"USINA\"] = rv_13.USINA1\n",
    "rv_13.USINA1 = normalizar_str(rv_13.USINA1)\n",
    "rv_13.USINA1 = rv_13.USINA1.replace(\"(UHE|CGH|PCH|UTE|UTN|EOL|UFV|AHE)\",\"\",regex=True)\n",
    "rv_13[\"USINA2\"] = rv_13.USINA1.str.extract(padrao)[0]\n",
    "rv_13.USINA1.replace(padrao,\"\",regex=True,inplace=True)"
   ]
  },
  {
   "cell_type": "code",
   "execution_count": 9,
   "metadata": {},
   "outputs": [
    {
     "name": "stdout",
     "output_type": "stream",
     "text": [
      "352204\n",
      "614\n"
     ]
    }
   ],
   "source": [
    "rv_17_copy = rv_17.copy()\n",
    "print(rv_17.USINA1.count())\n",
    "composite_primary_key = [\"USINA1\",\"CNPJ VENDEDOR\",\"USINA2\"]\n",
    "rv_17.drop_duplicates(subset=composite_primary_key,inplace=True,keep=\"first\")\n",
    "print(rv_17.USINA1.count())"
   ]
  },
  {
   "cell_type": "code",
   "execution_count": 10,
   "metadata": {},
   "outputs": [
    {
     "data": {
      "text/html": [
       "<div>\n",
       "<style scoped>\n",
       "    .dataframe tbody tr th:only-of-type {\n",
       "        vertical-align: middle;\n",
       "    }\n",
       "\n",
       "    .dataframe tbody tr th {\n",
       "        vertical-align: top;\n",
       "    }\n",
       "\n",
       "    .dataframe thead th {\n",
       "        text-align: right;\n",
       "    }\n",
       "</style>\n",
       "<table border=\"1\" class=\"dataframe\">\n",
       "  <thead>\n",
       "    <tr style=\"text-align: right;\">\n",
       "      <th></th>\n",
       "      <th>DATA</th>\n",
       "      <th>USINA1</th>\n",
       "      <th>COMPRADOR</th>\n",
       "      <th>CNPJ COMPRADOR</th>\n",
       "      <th>VENDEDOR</th>\n",
       "      <th>CNPJ VENDEDOR</th>\n",
       "      <th>RECEITA DE VENDA MENSAL (R$)</th>\n",
       "      <th>USINA</th>\n",
       "      <th>geracao1</th>\n",
       "      <th>geracao2</th>\n",
       "      <th>USINA2</th>\n",
       "      <th>USINA12</th>\n",
       "    </tr>\n",
       "  </thead>\n",
       "  <tbody>\n",
       "  </tbody>\n",
       "</table>\n",
       "</div>"
      ],
      "text/plain": [
       "Empty DataFrame\n",
       "Columns: [DATA, USINA1, COMPRADOR, CNPJ COMPRADOR, VENDEDOR, CNPJ VENDEDOR, RECEITA DE VENDA MENSAL (R$), USINA, geracao1, geracao2, USINA2, USINA12]\n",
       "Index: []"
      ]
     },
     "execution_count": 10,
     "metadata": {},
     "output_type": "execute_result"
    }
   ],
   "source": [
    "mask_difere_geracao = find_diff(rv_17,[f\"geracao{i}\" for i in [1,2]])\n",
    "rv_17[mask_difere_geracao]"
   ]
  },
  {
   "cell_type": "code",
   "execution_count": 11,
   "metadata": {},
   "outputs": [],
   "source": [
    "def remove_dup(s : pd.Series):\n",
    "    return s[s.apply(lambda x : len(x)) == 1]\n",
    "\n",
    "dict_geracao_cnpj_usina1 = remove_dup(relatorio_ceg_cnpj_rep.groupby([\"Geração\",\"CNPJ\",\"USINA1\"]).ID.apply(list))\n",
    "dict_geracao_cnpj_usina2 = remove_dup(relatorio_ceg_cnpj_rep.groupby([\"Geração\",\"CNPJ\",\"USINA2\"]).ID.apply(list))\n",
    "\n",
    "\n",
    "dict_cnpj_usina1 = remove_dup(relatorio_ceg_cnpj_rep.groupby([\"CNPJ\",\"USINA1\"]).ID.apply(list))\n",
    "dict_cnpj_usina2 = remove_dup(relatorio_ceg_cnpj_rep.groupby([\"CNPJ\",\"USINA2\"]).ID.apply(list))\n",
    "\n",
    "dict_geracao_usina1 = remove_dup(relatorio_ceg_cnpj_rep.groupby([\"Geração\",\"USINA1\"]).ID.apply(list))\n",
    "dict_geracao_usina2 = remove_dup(relatorio_ceg_cnpj_rep.groupby([\"Geração\",\"USINA2\"]).ID.apply(list))\n",
    "\n",
    "\n",
    "\n",
    "dict_confiabilidade_usina= {}\n"
   ]
  },
  {
   "cell_type": "code",
   "execution_count": 12,
   "metadata": {},
   "outputs": [],
   "source": [
    "dict_usina1 = dict(zip(relatorio_ceg_cnpj[relatorio_ceg_cnpj.USINA1.notna()].USINA1,relatorio_ceg_cnpj[relatorio_ceg_cnpj.USINA1.notna()].ID))\n",
    "dict_usina2 = dict(zip(relatorio_ceg_cnpj[relatorio_ceg_cnpj.USINA2.notna()].USINA2,relatorio_ceg_cnpj[relatorio_ceg_cnpj.USINA2.notna()].ID))\n",
    "\n",
    "rv_17[\"usina011\"] = rv_17.USINA1.map(dict_usina1)\n",
    "rv_17[\"usina012\"] = rv_17.USINA1.map(dict_usina2)\n",
    "\n",
    "rv_17[\"usina021\"] = rv_17.USINA2.map(dict_usina1)\n",
    "rv_17[\"usina022\"] = rv_17.USINA2.map(dict_usina2)\n",
    "\n",
    "\n",
    "dict_confiabilidade_usina= {\"usina011\": 0,\n",
    "                            \"usina012\": 0,\n",
    "                            \"usina021\": 0,\n",
    "                            \"usina022\": 0,}"
   ]
  },
  {
   "cell_type": "code",
   "execution_count": 13,
   "metadata": {},
   "outputs": [
    {
     "name": "stdout",
     "output_type": "stream",
     "text": [
      "0\n",
      "40\n"
     ]
    }
   ],
   "source": [
    "#usina, geracao, metodo(exato ou n)\n",
    "for index, row in rv_17.iterrows():\n",
    "    for j in range(1,3): # usina1 ou usina2\n",
    "        for i in range(1,3): # Loop para cada geração   \n",
    "            if type(row[f\"geracao{i}\"]) == str:\n",
    "                for k, dict_ in enumerate([dict_geracao_cnpj_usina1,dict_geracao_cnpj_usina2]):\n",
    "                    try:\n",
    "                        rv_17.loc[index,f\"usina{j}_1_{k+1}_{i}\"] = dict_[row[f\"geracao{i}\"]][row[\"CNPJ VENDEDOR\"]][row[f\"USINA{j}\"]][0]\n",
    "                        dict_confiabilidade_usina[f\"usina{j}_1_{k+1}_{i}\"] = dict_confiabilidade_geracao[i] + 10 - k\n",
    "                    except KeyError as error:\n",
    "                        pass\n",
    "                for k, dict_ in enumerate([dict_geracao_usina1,dict_geracao_usina2]): \n",
    "                    try:\n",
    "                        rv_17.loc[index,f\"usina{j}_3_{k+1}_{i}\"] = dict_[row[f\"geracao{i}\"]][row[f\"USINA{j}\"]][0]\n",
    "                        dict_confiabilidade_usina[f\"usina{j}_3_{k+1}_{i}\"] = dict_confiabilidade_geracao[i] + 5 - k\n",
    "                    except KeyError as error:\n",
    "                        pass\n",
    "    ########################################################################################################################################\n",
    "\n",
    "        for k, dict_ in enumerate([dict_cnpj_usina1,dict_cnpj_usina2]):\n",
    "            try:\n",
    "                rv_17.loc[index,f\"usina{4}_{j}_{k+1}_1\"] = dict_[row[\"CNPJ VENDEDOR\"]][row[f\"USINA{j}\"]][0]\n",
    "                dict_confiabilidade_usina[f\"usina{4}_{j}_{k+1}_1\"] =  6 - k\n",
    "            except KeyError:\n",
    "                pass\n",
    "\n",
    "lista_colunas_usinas = [col for col in rv_17.columns if col[0:5] ==\"usina\"]\n",
    "print(rv_17[find_diff(rv_17,lista_colunas_usinas)].USINA1.count())\n",
    "print(rv_17[rv_17[lista_colunas_usinas].isna().all(axis=1)].USINA1.count())"
   ]
  },
  {
   "cell_type": "code",
   "execution_count": 14,
   "metadata": {},
   "outputs": [],
   "source": [
    "rv_17[\"ID\"] = np.nan\n",
    "rv_17[\"Confiabilidade\"] = 0\n",
    "rv_17[\"Metodo\"] = np.nan\n",
    "\n",
    "\n",
    "for usina_num, confiabilidade in sorted(dict_confiabilidade_usina.items(), key=lambda item: item[1],reverse=True):\n",
    "    for index, row in rv_17.iterrows():\n",
    "        if pd.isna(row.ID)  and not  pd.isna(row[usina_num]):\n",
    "            rv_17.loc[index,\"ID\"] = row[f\"{usina_num}\"]\n",
    "            rv_17.loc[index,\"Confiabilidade\"] = confiabilidade\n",
    "            rv_17.loc[index,\"Metodo\"] = usina_num"
   ]
  },
  {
   "cell_type": "code",
   "execution_count": 15,
   "metadata": {},
   "outputs": [],
   "source": [
    "mask_export = rv_17.Metodo.isna() | (rv_17.Confiabilidade < 5)\n",
    "rv_17_export = rv_17.loc[ mask_export,[\"USINA\",\"CNPJ VENDEDOR\"]]\n",
    "rv_17_export.to_excel(\"./Intermediarios/rv_17_export.xlsx\")\n",
    "rv_17.loc[mask_export,\"ID\"] = pd.NA\n",
    "rv_17.loc[mask_export,\"Confiabilidade\"] = 0"
   ]
  },
  {
   "cell_type": "code",
   "execution_count": 1,
   "metadata": {},
   "outputs": [],
   "source": [
    "#raise"
   ]
  },
  {
   "cell_type": "code",
   "execution_count": 16,
   "metadata": {},
   "outputs": [],
   "source": [
    "faltantes = pd.read_excel(\"./Intermediarios/rv_17_export_mod.xlsx\",index_col=\"Unnamed: 0\")[[\"USINA\",\"CNPJ VENDEDOR\",\"CEG\"]]\n",
    "faltantes.dropna(subset=\"CEG\",inplace=True)\n",
    "faltantes[\"CEG\"] = formatar_ceg(faltantes.CEG)\n",
    "faltantes[\"ID\"] = extrair_info_ceg(faltantes[\"CEG\"])[\"ID\"]\n",
    "faltantes = pd.merge(rv_17[[\"USINA\",\"CNPJ VENDEDOR\"]],faltantes[[\"USINA\",\"CNPJ VENDEDOR\",\"ID\"]],on=[\"USINA\",\"CNPJ VENDEDOR\"],how=\"left\")\n",
    "faltantes.index = rv_17.index\n",
    "rv_17.loc[rv_17.ID.isna(),\"ID\"] = faltantes"
   ]
  },
  {
   "cell_type": "code",
   "execution_count": 17,
   "metadata": {},
   "outputs": [],
   "source": [
    "fact_cols = [\"USINA\",\"ID\",\"DATA\",\"RECEITA DE VENDA MENSAL (R$)\",\"CNPJ VENDEDOR\"]\n",
    "rv_17_fact = pd.merge(rv_17_copy[[\"USINA1\",\"USINA2\",\"CNPJ VENDEDOR\",\"DATA\",\"RECEITA DE VENDA MENSAL (R$)\"]],rv_17[[\"USINA1\",\"USINA2\",\"CNPJ VENDEDOR\",\"ID\",\"USINA\"]],on=composite_primary_key,how=\"left\",validate=\"many_to_one\")[fact_cols]"
   ]
  },
  {
   "cell_type": "code",
   "execution_count": 18,
   "metadata": {},
   "outputs": [],
   "source": [
    "rv_17_dim = rv_17_fact.drop_duplicates(\"ID\")[[\"ID\"]].dropna(subset=[\"ID\"])\n",
    "\n",
    "rv_17_dim = pd.merge(rv_17_dim,\n",
    "        relatorio_ceg_cnpj_copy.drop_duplicates(subset=\"ID\").rename(columns={\"USINA1\":\"Usina Outorgas\"}),\n",
    "        on=\"ID\",validate=\"one_to_one\",suffixes=[\"\",\"_rrv\"])"
   ]
  },
  {
   "cell_type": "code",
   "execution_count": 19,
   "metadata": {},
   "outputs": [
    {
     "name": "stdout",
     "output_type": "stream",
     "text": [
      "Lendo arquivo: ./Inputs/RRVs/Parquets/RRV_final_2021.gzip\n",
      "Lendo arquivo: ./Inputs/RRVs/Parquets/RRV_final_2022_05.gzip\n",
      "Lendo arquivo: ./Inputs/RRVs/Parquets/RRV_final_2022_06.gzip\n"
     ]
    },
    {
     "data": {
      "text/plain": [
       "Evento                       False\n",
       "Mês/Ano                      False\n",
       "CEG do Empreendimento        False\n",
       "Sigla Parcela - Usina        False\n",
       "(S) TOT_RV_D p,t,l,e,m       False\n",
       "Perfil Agente - Vendedor     False\n",
       "Perfil Agente - Comprador    False\n",
       "CNPJ Agente - Comprador      False\n",
       "CNPJ Agente - Vendedor       False\n",
       "ID                           False\n",
       "DATA                         False\n",
       "dtype: bool"
      ]
     },
     "metadata": {},
     "output_type": "display_data"
    }
   ],
   "source": [
    "# Arquivos com os RRVs\n",
    "import glob\n",
    "path_files = \"./Inputs/RRVs/\"\n",
    "file_paths = glob.glob(f\"{path_files}/*.xlsx\")\n",
    "colunas = [\"Evento\",\"Mês/Ano\",\"CEG do Empreendimento\",\"Sigla Parcela - Usina\", \"(S) TOT_RV_D p,t,l,e,m\", \n",
    "\"Perfil Agente - Vendedor\",\"Perfil Agente - Comprador\",\"CNPJ Agente - Comprador\",\"CNPJ Agente - Vendedor\"]\n",
    "rrv = concat_rrvs(file_paths,colunas)\n",
    "rrv[\"CNPJ Agente - Vendedor\"] = formatar_cnpj(rrv[\"CNPJ Agente - Vendedor\"])\n",
    "rrv[\"(S) TOT_RV_D p,t,l,e,m\"].fillna(0,inplace=True)\n",
    "\n",
    "lista_colunas_match = [\"Sigla Parcela - Usina\",\"Perfil Agente - Vendedor\",\"CNPJ Agente - Vendedor\"]\n",
    "dict_parcela_ceg =   rrv[rrv[\"CEG do Empreendimento\"].notna()].drop_duplicates(subset=lista_colunas_match)[lista_colunas_match + [\"CEG do Empreendimento\"]].drop_duplicates(subset=lista_colunas_match)\n",
    "cegs_identificados =  pd.merge(rrv[lista_colunas_match],dict_parcela_ceg,on=lista_colunas_match,how=\"left\")[\"CEG do Empreendimento\"]\n",
    "rrv.loc[rrv[\"CEG do Empreendimento\"].isna(),\"CEG do Empreendimento\"] = cegs_identificados\n",
    "\n",
    "faltantes = pd.read_excel(\"./Intermediarios/Faltantes.xlsx\")[lista_colunas_match + [\"CEG do Empreendimento\"]]\n",
    "cegs_identificados =  pd.merge(rrv[lista_colunas_match],faltantes,on=lista_colunas_match,how=\"left\")[\"CEG do Empreendimento\"]\n",
    "rrv.loc[rrv[\"CEG do Empreendimento\"].isna(),\"CEG do Empreendimento\"] = cegs_identificados\n",
    "\n",
    "rrv.dropna(subset=\"CEG do Empreendimento\",inplace=True)\n",
    "rrv[\"ID\"] = extrair_info_ceg(rrv[\"CEG do Empreendimento\"])[\"ID\"]\n",
    "rrv[\"DATA\"] = pd.to_datetime(rrv[\"Mês/Ano\"],utc=False)\n",
    "display(rrv.isna().any())\n",
    "\n",
    "\n",
    "rrv = rrv[[\"DATA\",\"Sigla Parcela - Usina\",\"ID\",\"(S) TOT_RV_D p,t,l,e,m\"]]\n",
    "#rrv= rrv.rename(columns= {\"CEG do Empreendimento\":\"CEG\",\"Sigla Parcela - Usina\":\"SiglaUsina\",\"(S) TOT_RV_D p,t,l,e,m\":\"tot\"})[[\"DATA\",\"SiglaUsina\",\"ID\",\"tot\"]]\n"
   ]
  },
  {
   "cell_type": "code",
   "execution_count": 20,
   "metadata": {},
   "outputs": [],
   "source": [
    "rrv = pd.merge(rrv,\n",
    "        relatorio_ceg_cnpj_copy.drop_duplicates(subset=\"ID\")[[\"ID\",\"USINA1\"]],\n",
    "        on=\"ID\",validate=\"many_to_one\",suffixes=[\"\",\"_rrv\"]).rename(columns={\"USINA1\":\"Usina\"})"
   ]
  },
  {
   "cell_type": "code",
   "execution_count": 21,
   "metadata": {},
   "outputs": [],
   "source": [
    "rv_17_fact[\"RECEITA DE VENDA MENSAL (R$)\"].fillna(0,inplace=True)\n",
    "rrv_sum = rrv.groupby([\"DATA\",\"ID\",\"Usina\"])[[\"(S) TOT_RV_D p,t,l,e,m\"]].sum().reset_index()\n",
    "rv_17_fact_sum = rv_17_fact.groupby([\"DATA\",\"ID\",\"USINA\"])[[\"RECEITA DE VENDA MENSAL (R$)\"]].sum().reset_index()"
   ]
  },
  {
   "cell_type": "code",
   "execution_count": 22,
   "metadata": {},
   "outputs": [],
   "source": [
    "comp = pd.merge(rrv_sum,rv_17_fact_sum,on=[\"DATA\",\"ID\"],how=\"outer\")\n",
    "datas_comuns = comp[comp['(S) TOT_RV_D p,t,l,e,m'].notna() &  comp[\"RECEITA DE VENDA MENSAL (R$)\"].notna()].DATA.unique()\n",
    "comp = comp.loc[comp.DATA.isin(datas_comuns),:]"
   ]
  },
  {
   "cell_type": "code",
   "execution_count": 23,
   "metadata": {},
   "outputs": [
    {
     "data": {
      "text/html": [
       "<div>\n",
       "<style scoped>\n",
       "    .dataframe tbody tr th:only-of-type {\n",
       "        vertical-align: middle;\n",
       "    }\n",
       "\n",
       "    .dataframe tbody tr th {\n",
       "        vertical-align: top;\n",
       "    }\n",
       "\n",
       "    .dataframe thead th {\n",
       "        text-align: right;\n",
       "    }\n",
       "</style>\n",
       "<table border=\"1\" class=\"dataframe\">\n",
       "  <thead>\n",
       "    <tr style=\"text-align: right;\">\n",
       "      <th></th>\n",
       "      <th>DATA</th>\n",
       "      <th>ID</th>\n",
       "      <th>Usina</th>\n",
       "      <th>(S) TOT_RV_D p,t,l,e,m</th>\n",
       "      <th>USINA</th>\n",
       "      <th>RECEITA DE VENDA MENSAL (R$)</th>\n",
       "    </tr>\n",
       "  </thead>\n",
       "  <tbody>\n",
       "    <tr>\n",
       "      <th>29</th>\n",
       "      <td>2021-01-01</td>\n",
       "      <td>27250.0</td>\n",
       "      <td>Aparecida Parte I</td>\n",
       "      <td>27534050.47</td>\n",
       "      <td>NaN</td>\n",
       "      <td>NaN</td>\n",
       "    </tr>\n",
       "    <tr>\n",
       "      <th>46</th>\n",
       "      <td>2021-01-01</td>\n",
       "      <td>28140.0</td>\n",
       "      <td>Energia Madeiras</td>\n",
       "      <td>306608.64</td>\n",
       "      <td>NaN</td>\n",
       "      <td>NaN</td>\n",
       "    </tr>\n",
       "    <tr>\n",
       "      <th>15680</th>\n",
       "      <td>2021-01-01</td>\n",
       "      <td>27978.0</td>\n",
       "      <td>NaN</td>\n",
       "      <td>NaN</td>\n",
       "      <td>CISFRAMA</td>\n",
       "      <td>306608.64</td>\n",
       "    </tr>\n",
       "    <tr>\n",
       "      <th>4043</th>\n",
       "      <td>2021-09-01</td>\n",
       "      <td>28538.0</td>\n",
       "      <td>Altos</td>\n",
       "      <td>1110750.46</td>\n",
       "      <td>NaN</td>\n",
       "      <td>NaN</td>\n",
       "    </tr>\n",
       "    <tr>\n",
       "      <th>4042</th>\n",
       "      <td>2021-09-01</td>\n",
       "      <td>28537.0</td>\n",
       "      <td>Campo Maior</td>\n",
       "      <td>1110750.46</td>\n",
       "      <td>NaN</td>\n",
       "      <td>NaN</td>\n",
       "    </tr>\n",
       "    <tr>\n",
       "      <th>4040</th>\n",
       "      <td>2021-09-01</td>\n",
       "      <td>28535.0</td>\n",
       "      <td>Marambaia</td>\n",
       "      <td>1110750.46</td>\n",
       "      <td>NaN</td>\n",
       "      <td>NaN</td>\n",
       "    </tr>\n",
       "    <tr>\n",
       "      <th>4034</th>\n",
       "      <td>2021-09-01</td>\n",
       "      <td>28529.0</td>\n",
       "      <td>Baturité</td>\n",
       "      <td>914765.16</td>\n",
       "      <td>NaN</td>\n",
       "      <td>NaN</td>\n",
       "    </tr>\n",
       "    <tr>\n",
       "      <th>4035</th>\n",
       "      <td>2021-09-01</td>\n",
       "      <td>28530.0</td>\n",
       "      <td>Crato</td>\n",
       "      <td>1110770.46</td>\n",
       "      <td>NaN</td>\n",
       "      <td>NaN</td>\n",
       "    </tr>\n",
       "    <tr>\n",
       "      <th>4036</th>\n",
       "      <td>2021-09-01</td>\n",
       "      <td>28531.0</td>\n",
       "      <td>Aracati</td>\n",
       "      <td>914765.13</td>\n",
       "      <td>NaN</td>\n",
       "      <td>NaN</td>\n",
       "    </tr>\n",
       "    <tr>\n",
       "      <th>4037</th>\n",
       "      <td>2021-09-01</td>\n",
       "      <td>28532.0</td>\n",
       "      <td>Iguatu</td>\n",
       "      <td>1197428.25</td>\n",
       "      <td>NaN</td>\n",
       "      <td>NaN</td>\n",
       "    </tr>\n",
       "    <tr>\n",
       "      <th>4038</th>\n",
       "      <td>2021-09-01</td>\n",
       "      <td>28533.0</td>\n",
       "      <td>Enguia Pecém</td>\n",
       "      <td>1197428.25</td>\n",
       "      <td>NaN</td>\n",
       "      <td>NaN</td>\n",
       "    </tr>\n",
       "    <tr>\n",
       "      <th>4039</th>\n",
       "      <td>2021-09-01</td>\n",
       "      <td>28534.0</td>\n",
       "      <td>Juazeiro do Norte</td>\n",
       "      <td>1197428.22</td>\n",
       "      <td>NaN</td>\n",
       "      <td>NaN</td>\n",
       "    </tr>\n",
       "    <tr>\n",
       "      <th>4041</th>\n",
       "      <td>2021-09-01</td>\n",
       "      <td>28536.0</td>\n",
       "      <td>Nazária</td>\n",
       "      <td>1110750.46</td>\n",
       "      <td>NaN</td>\n",
       "      <td>NaN</td>\n",
       "    </tr>\n",
       "    <tr>\n",
       "      <th>4033</th>\n",
       "      <td>2021-09-01</td>\n",
       "      <td>28528.0</td>\n",
       "      <td>Caucaia</td>\n",
       "      <td>1197428.25</td>\n",
       "      <td>NaN</td>\n",
       "      <td>NaN</td>\n",
       "    </tr>\n",
       "  </tbody>\n",
       "</table>\n",
       "</div>"
      ],
      "text/plain": [
       "            DATA       ID              Usina  (S) TOT_RV_D p,t,l,e,m  \\\n",
       "29    2021-01-01  27250.0  Aparecida Parte I             27534050.47   \n",
       "46    2021-01-01  28140.0   Energia Madeiras               306608.64   \n",
       "15680 2021-01-01  27978.0                NaN                     NaN   \n",
       "4043  2021-09-01  28538.0              Altos              1110750.46   \n",
       "4042  2021-09-01  28537.0        Campo Maior              1110750.46   \n",
       "4040  2021-09-01  28535.0          Marambaia              1110750.46   \n",
       "4034  2021-09-01  28529.0           Baturité               914765.16   \n",
       "4035  2021-09-01  28530.0              Crato              1110770.46   \n",
       "4036  2021-09-01  28531.0            Aracati               914765.13   \n",
       "4037  2021-09-01  28532.0             Iguatu              1197428.25   \n",
       "4038  2021-09-01  28533.0       Enguia Pecém              1197428.25   \n",
       "4039  2021-09-01  28534.0  Juazeiro do Norte              1197428.22   \n",
       "4041  2021-09-01  28536.0            Nazária              1110750.46   \n",
       "4033  2021-09-01  28528.0            Caucaia              1197428.25   \n",
       "\n",
       "          USINA  RECEITA DE VENDA MENSAL (R$)  \n",
       "29          NaN                           NaN  \n",
       "46          NaN                           NaN  \n",
       "15680  CISFRAMA                     306608.64  \n",
       "4043        NaN                           NaN  \n",
       "4042        NaN                           NaN  \n",
       "4040        NaN                           NaN  \n",
       "4034        NaN                           NaN  \n",
       "4035        NaN                           NaN  \n",
       "4036        NaN                           NaN  \n",
       "4037        NaN                           NaN  \n",
       "4038        NaN                           NaN  \n",
       "4039        NaN                           NaN  \n",
       "4041        NaN                           NaN  \n",
       "4033        NaN                           NaN  "
      ]
     },
     "execution_count": 23,
     "metadata": {},
     "output_type": "execute_result"
    }
   ],
   "source": [
    "# Vê-se que a usina Energia Madeiras foi identificada como a usina Cisframa \n",
    "diff = (abs(comp[\"RECEITA DE VENDA MENSAL (R$)\"] - comp[\"(S) TOT_RV_D p,t,l,e,m\"])>100) | ( (comp[\"RECEITA DE VENDA MENSAL (R$)\"] >10) & (comp[\"(S) TOT_RV_D p,t,l,e,m\"].isna()) ) |  ( (comp[\"(S) TOT_RV_D p,t,l,e,m\"] >10) & (comp[\"RECEITA DE VENDA MENSAL (R$)\"].isna()) )\n",
    "\n",
    "comp[diff].sort_values(by=\"DATA\").drop_duplicates(\"ID\")"
   ]
  },
  {
   "cell_type": "code",
   "execution_count": 24,
   "metadata": {},
   "outputs": [
    {
     "data": {
      "text/html": [
       "<div>\n",
       "<style scoped>\n",
       "    .dataframe tbody tr th:only-of-type {\n",
       "        vertical-align: middle;\n",
       "    }\n",
       "\n",
       "    .dataframe tbody tr th {\n",
       "        vertical-align: top;\n",
       "    }\n",
       "\n",
       "    .dataframe thead th {\n",
       "        text-align: right;\n",
       "    }\n",
       "</style>\n",
       "<table border=\"1\" class=\"dataframe\">\n",
       "  <thead>\n",
       "    <tr style=\"text-align: right;\">\n",
       "      <th></th>\n",
       "      <th>ID</th>\n",
       "      <th>CNPJ</th>\n",
       "      <th>CEG</th>\n",
       "      <th>Usina Outorgas</th>\n",
       "      <th>Geração</th>\n",
       "    </tr>\n",
       "  </thead>\n",
       "  <tbody>\n",
       "    <tr>\n",
       "      <th>10</th>\n",
       "      <td>28538.0</td>\n",
       "      <td>04.735.623/0001-63</td>\n",
       "      <td>UTE.PE.PI.028538-2</td>\n",
       "      <td>Altos</td>\n",
       "      <td>UTE</td>\n",
       "    </tr>\n",
       "    <tr>\n",
       "      <th>13</th>\n",
       "      <td>27250.0</td>\n",
       "      <td>00.357.038/0001-16</td>\n",
       "      <td>UTE.GN.AM.027250-7</td>\n",
       "      <td>Aparecida Parte I</td>\n",
       "      <td>UTE</td>\n",
       "    </tr>\n",
       "    <tr>\n",
       "      <th>14</th>\n",
       "      <td>28531.0</td>\n",
       "      <td>04.735.629/0001-30</td>\n",
       "      <td>UTE.PE.CE.028531-5</td>\n",
       "      <td>Aracati</td>\n",
       "      <td>UTE</td>\n",
       "    </tr>\n",
       "    <tr>\n",
       "      <th>70</th>\n",
       "      <td>28529.0</td>\n",
       "      <td>04.735.629/0001-30</td>\n",
       "      <td>UTE.PE.CE.028529-3</td>\n",
       "      <td>Baturité</td>\n",
       "      <td>UTE</td>\n",
       "    </tr>\n",
       "    <tr>\n",
       "      <th>113</th>\n",
       "      <td>28537.0</td>\n",
       "      <td>04.735.623/0001-63</td>\n",
       "      <td>UTE.PE.PI.028537-4</td>\n",
       "      <td>Campo Maior</td>\n",
       "      <td>UTE</td>\n",
       "    </tr>\n",
       "  </tbody>\n",
       "</table>\n",
       "</div>"
      ],
      "text/plain": [
       "          ID                CNPJ                 CEG     Usina Outorgas  \\\n",
       "10   28538.0  04.735.623/0001-63  UTE.PE.PI.028538-2              Altos   \n",
       "13   27250.0  00.357.038/0001-16  UTE.GN.AM.027250-7  Aparecida Parte I   \n",
       "14   28531.0  04.735.629/0001-30  UTE.PE.CE.028531-5            Aracati   \n",
       "70   28529.0  04.735.629/0001-30  UTE.PE.CE.028529-3           Baturité   \n",
       "113  28537.0  04.735.623/0001-63  UTE.PE.PI.028537-4        Campo Maior   \n",
       "\n",
       "    Geração  \n",
       "10      UTE  \n",
       "13      UTE  \n",
       "14      UTE  \n",
       "70      UTE  \n",
       "113     UTE  "
      ]
     },
     "execution_count": 24,
     "metadata": {},
     "output_type": "execute_result"
    }
   ],
   "source": [
    "ids_ruins = comp[diff].ID.unique()\n",
    "rv_17_dim.loc[rv_17_dim.ID.isin(ids_ruins)].head(5)"
   ]
  },
  {
   "cell_type": "code",
   "execution_count": 34,
   "metadata": {},
   "outputs": [],
   "source": [
    "# Exclui casos que a USINA e o ID são idênticos assim como CNPJ e ID\n",
    "rv_17_teste = rv_17.drop_duplicates(subset=[\"USINA1\",\"ID\"],keep=False).drop_duplicates(subset=[\"CNPJ VENDEDOR\",\"ID\"],keep=False)"
   ]
  },
  {
   "cell_type": "code",
   "execution_count": 35,
   "metadata": {},
   "outputs": [
    {
     "data": {
      "text/html": [
       "<div>\n",
       "<style scoped>\n",
       "    .dataframe tbody tr th:only-of-type {\n",
       "        vertical-align: middle;\n",
       "    }\n",
       "\n",
       "    .dataframe tbody tr th {\n",
       "        vertical-align: top;\n",
       "    }\n",
       "\n",
       "    .dataframe thead th {\n",
       "        text-align: right;\n",
       "    }\n",
       "</style>\n",
       "<table border=\"1\" class=\"dataframe\">\n",
       "  <thead>\n",
       "    <tr style=\"text-align: right;\">\n",
       "      <th></th>\n",
       "      <th>USINA1</th>\n",
       "      <th>ID</th>\n",
       "      <th>CNPJ VENDEDOR</th>\n",
       "    </tr>\n",
       "  </thead>\n",
       "  <tbody>\n",
       "    <tr>\n",
       "      <th>232721</th>\n",
       "      <td>SALTOPILAO-CAMARGOCORREA</td>\n",
       "      <td>28564.0</td>\n",
       "      <td>11.792.578/0001-44</td>\n",
       "    </tr>\n",
       "    <tr>\n",
       "      <th>232841</th>\n",
       "      <td>SALTOPILAO-DME</td>\n",
       "      <td>28564.0</td>\n",
       "      <td>03.966.583/0001-06</td>\n",
       "    </tr>\n",
       "  </tbody>\n",
       "</table>\n",
       "</div>"
      ],
      "text/plain": [
       "                          USINA1       ID       CNPJ VENDEDOR\n",
       "232721  SALTOPILAO-CAMARGOCORREA  28564.0  11.792.578/0001-44\n",
       "232841            SALTOPILAO-DME  28564.0  03.966.583/0001-06"
      ]
     },
     "execution_count": 35,
     "metadata": {},
     "output_type": "execute_result"
    }
   ],
   "source": [
    "# Vê-se que o único caso que existe IDs iguais para USINA1 e CNPJ diferentes, trata-se da mesma usina. Logo, USINA1 será usada como chave primária\n",
    "rv_17_teste[rv_17_teste.ID.duplicated(keep=False)].head(20).sort_values(by=\"USINA1\")[[\"USINA1\",\"ID\",\"CNPJ VENDEDOR\"]]"
   ]
  },
  {
   "cell_type": "code",
   "execution_count": 36,
   "metadata": {},
   "outputs": [],
   "source": [
    "rv_13_fact = pd.merge(rv_13[[\"DATA\",\"RECEITA DE VENDA MENSAL (R$)\",\"USINA\"] + composite_primary_key],\n",
    "        rv_17[[\"ID\"] + composite_primary_key].drop_duplicates(subset=\"USINA1\"),\n",
    "        on = \"USINA1\",\n",
    "        how=\"left\",\n",
    "        suffixes=[\"\",\"_x\"],\n",
    "        validate=\"many_to_one\")[fact_cols]"
   ]
  },
  {
   "cell_type": "code",
   "execution_count": 37,
   "metadata": {},
   "outputs": [
    {
     "data": {
      "text/html": [
       "<div>\n",
       "<style scoped>\n",
       "    .dataframe tbody tr th:only-of-type {\n",
       "        vertical-align: middle;\n",
       "    }\n",
       "\n",
       "    .dataframe tbody tr th {\n",
       "        vertical-align: top;\n",
       "    }\n",
       "\n",
       "    .dataframe thead th {\n",
       "        text-align: right;\n",
       "    }\n",
       "</style>\n",
       "<table border=\"1\" class=\"dataframe\">\n",
       "  <thead>\n",
       "    <tr style=\"text-align: right;\">\n",
       "      <th></th>\n",
       "      <th>USINA</th>\n",
       "      <th>ID</th>\n",
       "      <th>DATA</th>\n",
       "      <th>RECEITA DE VENDA MENSAL (R$)</th>\n",
       "      <th>CNPJ VENDEDOR</th>\n",
       "    </tr>\n",
       "  </thead>\n",
       "  <tbody>\n",
       "    <tr>\n",
       "      <th>1345</th>\n",
       "      <td>SAO DOMINGOS</td>\n",
       "      <td>NaN</td>\n",
       "      <td>2020-01-01</td>\n",
       "      <td>70.95</td>\n",
       "      <td>10.618.009/0001-14</td>\n",
       "    </tr>\n",
       "  </tbody>\n",
       "</table>\n",
       "</div>"
      ],
      "text/plain": [
       "             USINA   ID       DATA  RECEITA DE VENDA MENSAL (R$)  \\\n",
       "1345  SAO DOMINGOS  NaN 2020-01-01                         70.95   \n",
       "\n",
       "           CNPJ VENDEDOR  \n",
       "1345  10.618.009/0001-14  "
      ]
     },
     "execution_count": 37,
     "metadata": {},
     "output_type": "execute_result"
    }
   ],
   "source": [
    "# Casos não identificados no RV_13\n",
    "rv_13_fact[rv_13_fact.ID.isna()].drop_duplicates(subset=\"ID\")"
   ]
  },
  {
   "cell_type": "code",
   "execution_count": 38,
   "metadata": {},
   "outputs": [
    {
     "data": {
      "text/html": [
       "<div>\n",
       "<style scoped>\n",
       "    .dataframe tbody tr th:only-of-type {\n",
       "        vertical-align: middle;\n",
       "    }\n",
       "\n",
       "    .dataframe tbody tr th {\n",
       "        vertical-align: top;\n",
       "    }\n",
       "\n",
       "    .dataframe thead th {\n",
       "        text-align: right;\n",
       "    }\n",
       "</style>\n",
       "<table border=\"1\" class=\"dataframe\">\n",
       "  <thead>\n",
       "    <tr style=\"text-align: right;\">\n",
       "      <th></th>\n",
       "      <th>USINA</th>\n",
       "      <th>ID</th>\n",
       "      <th>DATA</th>\n",
       "      <th>RECEITA DE VENDA MENSAL (R$)</th>\n",
       "      <th>CNPJ VENDEDOR</th>\n",
       "    </tr>\n",
       "  </thead>\n",
       "  <tbody>\n",
       "    <tr>\n",
       "      <th>5275</th>\n",
       "      <td>APARECIDA</td>\n",
       "      <td>NaN</td>\n",
       "      <td>2020-01-01</td>\n",
       "      <td>28026171.77</td>\n",
       "      <td>17.957.780/0001-65</td>\n",
       "    </tr>\n",
       "  </tbody>\n",
       "</table>\n",
       "</div>"
      ],
      "text/plain": [
       "          USINA   ID       DATA  RECEITA DE VENDA MENSAL (R$)  \\\n",
       "5275  APARECIDA  NaN 2020-01-01                   28026171.77   \n",
       "\n",
       "           CNPJ VENDEDOR  \n",
       "5275  17.957.780/0001-65  "
      ]
     },
     "execution_count": 38,
     "metadata": {},
     "output_type": "execute_result"
    }
   ],
   "source": [
    "# Casos não identificados no RV_17\n",
    "rv_17_fact[rv_17_fact.ID.isna()].drop_duplicates(subset=\"ID\")"
   ]
  },
  {
   "cell_type": "code",
   "execution_count": 40,
   "metadata": {},
   "outputs": [],
   "source": [
    "dict_cols_export = {\"USINA\":\"Sigla Parcela - Usina\",\"DATA\":\"Data\",'RECEITA DE VENDA MENSAL (R$)':\"(S) TOT_RV_D p,t,l,e,m\",'CNPJ VENDEDOR':\"CNPJ Agente - Vendedor\"}"
   ]
  },
  {
   "cell_type": "code",
   "execution_count": 41,
   "metadata": {},
   "outputs": [],
   "source": [
    "rv_13_fact = rv_13_fact.rename(columns=dict_cols_export)\n",
    "rv_17_fact = rv_17_fact.rename(columns=dict_cols_export)"
   ]
  },
  {
   "cell_type": "code",
   "execution_count": 44,
   "metadata": {},
   "outputs": [],
   "source": [
    "rrv_nao_ident = rv_17_fact[(rv_17_fact[\"(S) TOT_RV_D p,t,l,e,m\"]> 0) & rv_17_fact.ID.isna()].copy()"
   ]
  },
  {
   "cell_type": "code",
   "execution_count": 47,
   "metadata": {},
   "outputs": [],
   "source": [
    "rv_13_fact.dropna(subset=\"ID\",inplace=True)\n",
    "rv_17_fact.dropna(subset=\"ID\",inplace=True)"
   ]
  },
  {
   "cell_type": "code",
   "execution_count": 49,
   "metadata": {},
   "outputs": [],
   "source": [
    "rv_13_fact.to_parquet(\"./Intermediarios/RV_13_2020.gzip\")\n",
    "rv_17_fact[rv_17_fact.Data < \"2021-01-01\"].to_parquet(\"./Intermediarios/RV_17_2020.gzip\")\n",
    "rrv_nao_ident[rrv_nao_ident.Data < \"2021-01-01\"].to_parquet(\"./Intermediarios/rrv_nao_ident_2020.gzip\")"
   ]
  }
 ],
 "metadata": {
  "kernelspec": {
   "display_name": "Python 3.10.4 ('Aneel')",
   "language": "python",
   "name": "python3"
  },
  "language_info": {
   "codemirror_mode": {
    "name": "ipython",
    "version": 3
   },
   "file_extension": ".py",
   "mimetype": "text/x-python",
   "name": "python",
   "nbconvert_exporter": "python",
   "pygments_lexer": "ipython3",
   "version": "3.10.4"
  },
  "orig_nbformat": 4,
  "vscode": {
   "interpreter": {
    "hash": "480ca3e66d53f790d71f23a4e6fd5a0fb225c2e8e74302bbec1a2934ab7c2802"
   }
  }
 },
 "nbformat": 4,
 "nbformat_minor": 2
}
