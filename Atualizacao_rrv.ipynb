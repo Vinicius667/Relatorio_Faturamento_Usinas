{
 "cells": [
  {
   "cell_type": "code",
   "execution_count": 1,
   "metadata": {},
   "outputs": [],
   "source": [
    "import sys\n",
    "import os\n",
    "import pandas as pd\n",
    "import glob\n",
    "import numpy as np\n",
    "from concat_files import concat_rrvs\n",
    "\n",
    "# Valida CNPJ \n",
    "def validar_cnpj(s: pd.Series): \n",
    "    digitos = s.str.extract(r'(\\d)(\\d).(\\d)(\\d)(\\d).(\\d)(\\d)(\\d)/(\\d)(\\d)(\\d)(\\d)-').astype(np.uint8,errors=\"ignore\")\n",
    "    dv = s.str.extract(r'-(\\d)(\\d)').astype(np.uint8,errors=\"ignore\")\n",
    "    dig_1 = np.array([6,7,8,9,2,3,4,5,6,7,8,9 ],dtype=np.uint8)\n",
    "    mult1 = np.sum(np.multiply(digitos,dig_1),axis=1).astype(np.uint16)\n",
    "    res1 = np.remainder(mult1,11).astype(np.uint8)\n",
    "    res1[res1==10] = 0\n",
    "    digitos =  pd.concat([digitos,res1],axis=1)\n",
    "    dig_2 = np.array([5,6,7,8,9,2,3,4,5,6,7,8,9],dtype=np.uint8)\n",
    "    mult2 = np.sum(np.multiply(digitos,dig_2),axis=1).astype(np.uint16)\n",
    "    res2 = np.remainder(mult2,11).astype(np.uint8)\n",
    "    res2[res2==10] = 0\n",
    "    digitos =  pd.concat([digitos,res2],axis=1)\n",
    "    return ((dv[0] - res1) == 0) & ((dv[1] - res2) == 0)\n",
    "\n",
    "# Formata CNPJ\n",
    "def formatar_cnpj(s: pd.Series, check_val =False,on_error = \"pass\"): \n",
    "    s= s.apply(str).str.strip() # Transforma CPJS em string\n",
    "    s.replace(to_replace=\"\\W\", value=r\"\", regex=True,inplace=True)\n",
    "    s = s.str.pad(14,\"left\",\"0\")  # Faz padding left com zeros\n",
    "    s.replace(to_replace=\"(\\d{2})(\\d{3})(\\d{3})(\\d{4})(\\d{2})\", value=r\"\\1.\\2.\\3/\\4-\\5\", regex=True,inplace=True)\n",
    "    \n",
    "    if check_val or on_error == \"raise\":\n",
    "        invalidos  = ~validar_cnpj(s)\n",
    "        quant_errors = invalidos.count()\n",
    "        print(f\"{quant_errors} CNPJs inválidos:\")\n",
    "        display(s[invalidos])\n",
    "    if on_error == \"raise\" and quant_errors > 0:\n",
    "        raise \n",
    "    \n",
    "    return s\n",
    "\n",
    "# Extrai as seguintes informações a partir do CEG: \"Geração\",\"Fonte\",\"UF\",\"ID\",\"DV\"\n",
    "def extrair_info_ceg(s: pd.Series):\n",
    "    ceg_info = s.str.extract(\"(\\w{3}).(\\w{2}).(\\w{2}).(\\d{6})-(\\d{1})\")\n",
    "    ceg_info.columns = [\"Geração\",\"Fonte\",\"UF\",\"ID\",\"DV\"]\n",
    "    ceg_info[\"ID\"] = ceg_info[\"ID\"].astype(np.uint16) \n",
    "    return ceg_info"
   ]
  },
  {
   "cell_type": "code",
   "execution_count": 2,
   "metadata": {},
   "outputs": [],
   "source": [
    "# Caso atualize o arquivo, mudar caminho \n",
    "relatorio_outorgas_path = \"./Inputs/relatorio_outorgas_19_08_22.xlsx\"\n",
    "relatorio_outorgas = pd.read_excel(relatorio_outorgas_path)"
   ]
  },
  {
   "cell_type": "code",
   "execution_count": 3,
   "metadata": {},
   "outputs": [],
   "source": [
    "# Baixa relatório do outorgas. As colunas necessárias estão em \"lista_coluna_outorgas\"\n",
    "lista_coluna_outorgas = [\"Identificador da Usina\",\"Nome da Usina\",\"CEG\"]\n",
    "relatorio_outorgas=  pd.read_excel(\"./Inputs/relatorio_outorgas_19_08_22.xlsx\")[lista_coluna_outorgas].rename(columns={\"Nome da Usina\":\"Usina\",\"Identificador da Usina\":\"ID\"})"
   ]
  },
  {
   "cell_type": "code",
   "execution_count": 4,
   "metadata": {},
   "outputs": [],
   "source": [
    "# Arquivos com os RRVs\n",
    "path_files = \"./Inputs/RRVs/\"\n",
    "file_paths = glob.glob(f\"{path_files}/*.xlsx\")\n",
    "\n",
    "# Colunas dos RRVs\n",
    "colunas = [\"Evento\",\"Mês/Ano\",\"CEG do Empreendimento\",\"Sigla Parcela - Usina\", \"(S) TOT_RV_D p,t,l,e,m\", \n",
    "\"Perfil Agente - Vendedor\",\"Perfil Agente - Comprador\",\"CNPJ Agente - Comprador\",\"CNPJ Agente - Vendedor\"]"
   ]
  },
  {
   "cell_type": "code",
   "execution_count": 5,
   "metadata": {},
   "outputs": [
    {
     "name": "stdout",
     "output_type": "stream",
     "text": [
      "Lendo arquivo: ./Inputs/RRVs/Parquets/RRV_final_2021.gzip\n",
      "Lendo arquivo: ./Inputs/RRVs/Parquets/RRV_final_2022_05.gzip\n",
      "Lendo arquivo: ./Inputs/RRVs/Parquets/RRV_final_2022_06.gzip\n"
     ]
    }
   ],
   "source": [
    "rrv = concat_rrvs(file_paths,colunas)\n",
    "rrv_copy = rrv.copy()"
   ]
  },
  {
   "cell_type": "code",
   "execution_count": 6,
   "metadata": {},
   "outputs": [],
   "source": [
    "rrv = rrv_copy.copy()\n"
   ]
  },
  {
   "cell_type": "code",
   "execution_count": 7,
   "metadata": {},
   "outputs": [],
   "source": [
    "# Troca valores nulos por 0\n",
    "rrv[\"(S) TOT_RV_D p,t,l,e,m\"].fillna(0,inplace=True)\n",
    "\n",
    "# Formata CNPJ\n",
    "rrv[\"CNPJ Agente - Vendedor\"] = formatar_cnpj(rrv[\"CNPJ Agente - Vendedor\"])\n",
    "\n",
    "# Formata data\n",
    "rrv[\"Data\"] = pd.to_datetime(rrv[\"Mês/Ano\"],utc=False)"
   ]
  },
  {
   "cell_type": "code",
   "execution_count": 8,
   "metadata": {},
   "outputs": [
    {
     "data": {
      "text/html": [
       "<div>\n",
       "<style scoped>\n",
       "    .dataframe tbody tr th:only-of-type {\n",
       "        vertical-align: middle;\n",
       "    }\n",
       "\n",
       "    .dataframe tbody tr th {\n",
       "        vertical-align: top;\n",
       "    }\n",
       "\n",
       "    .dataframe thead th {\n",
       "        text-align: right;\n",
       "    }\n",
       "</style>\n",
       "<table border=\"1\" class=\"dataframe\">\n",
       "  <thead>\n",
       "    <tr style=\"text-align: right;\">\n",
       "      <th></th>\n",
       "      <th>Sigla Parcela - Usina</th>\n",
       "      <th>Perfil Agente - Vendedor</th>\n",
       "      <th>CNPJ Agente - Vendedor</th>\n",
       "      <th>CEG do Empreendimento</th>\n",
       "    </tr>\n",
       "  </thead>\n",
       "  <tbody>\n",
       "  </tbody>\n",
       "</table>\n",
       "</div>"
      ],
      "text/plain": [
       "Empty DataFrame\n",
       "Columns: [Sigla Parcela - Usina, Perfil Agente - Vendedor, CNPJ Agente - Vendedor, CEG do Empreendimento]\n",
       "Index: []"
      ]
     },
     "execution_count": 8,
     "metadata": {},
     "output_type": "execute_result"
    }
   ],
   "source": [
    "# Lista de colunas usadas para encontrar CEGs faltantes\n",
    "lista_colunas_match = [\"Sigla Parcela - Usina\",\"Perfil Agente - Vendedor\",\"CNPJ Agente - Vendedor\"]\n",
    "dict_parcela_ceg =   rrv[rrv[\"CEG do Empreendimento\"].notna()].drop_duplicates(subset=lista_colunas_match)[lista_colunas_match + [\"CEG do Empreendimento\"]].drop_duplicates(subset=lista_colunas_match)\n",
    "dict_parcela_ceg.loc[dict_parcela_ceg.isna().any(axis=1),:]"
   ]
  },
  {
   "cell_type": "code",
   "execution_count": 9,
   "metadata": {},
   "outputs": [],
   "source": [
    "# Adiciona CEGs faltantes\n",
    "cegs_identificados =  pd.merge(rrv[lista_colunas_match],dict_parcela_ceg,on=lista_colunas_match,how=\"left\")[\"CEG do Empreendimento\"]\n",
    "cegs_identificados.index = rrv.index\n",
    "rrv.loc[rrv[\"CEG do Empreendimento\"].isna(),\"CEG do Empreendimento\"] = cegs_identificados\n"
   ]
  },
  {
   "cell_type": "code",
   "execution_count": 10,
   "metadata": {},
   "outputs": [],
   "source": [
    "# Adiciona CEGs que foram identificados anteriormente\n",
    "faltantes = pd.read_excel(\"./Intermediarios/Faltantes.xlsx\")[lista_colunas_match + [\"CEG do Empreendimento\"]]\n",
    "cegs_identificados =  pd.merge(rrv[lista_colunas_match],faltantes,on=lista_colunas_match,how=\"left\")[\"CEG do Empreendimento\"]\n",
    "rrv.loc[rrv[\"CEG do Empreendimento\"].isna(),\"CEG do Empreendimento\"] = cegs_identificados\n"
   ]
  },
  {
   "cell_type": "code",
   "execution_count": 11,
   "metadata": {},
   "outputs": [
    {
     "data": {
      "text/html": [
       "<div>\n",
       "<style scoped>\n",
       "    .dataframe tbody tr th:only-of-type {\n",
       "        vertical-align: middle;\n",
       "    }\n",
       "\n",
       "    .dataframe tbody tr th {\n",
       "        vertical-align: top;\n",
       "    }\n",
       "\n",
       "    .dataframe thead th {\n",
       "        text-align: right;\n",
       "    }\n",
       "</style>\n",
       "<table border=\"1\" class=\"dataframe\">\n",
       "  <thead>\n",
       "    <tr style=\"text-align: right;\">\n",
       "      <th></th>\n",
       "      <th>Sigla Parcela - Usina</th>\n",
       "      <th>Perfil Agente - Vendedor</th>\n",
       "      <th>CNPJ Agente - Vendedor</th>\n",
       "      <th>CEG do Empreendimento</th>\n",
       "    </tr>\n",
       "  </thead>\n",
       "  <tbody>\n",
       "    <tr>\n",
       "      <th>187556</th>\n",
       "      <td>None</td>\n",
       "      <td>ARGON</td>\n",
       "      <td>21.642.355/0001-54</td>\n",
       "      <td>NaN</td>\n",
       "    </tr>\n",
       "    <tr>\n",
       "      <th>187557</th>\n",
       "      <td>None</td>\n",
       "      <td>BRASIL COM</td>\n",
       "      <td>13.145.928/0001-06</td>\n",
       "      <td>NaN</td>\n",
       "    </tr>\n",
       "    <tr>\n",
       "      <th>187558</th>\n",
       "      <td>None</td>\n",
       "      <td>ELETRONORTE</td>\n",
       "      <td>00.357.038/0001-16</td>\n",
       "      <td>NaN</td>\n",
       "    </tr>\n",
       "    <tr>\n",
       "      <th>187559</th>\n",
       "      <td>None</td>\n",
       "      <td>STATKRAFT</td>\n",
       "      <td>08.573.833/0001-53</td>\n",
       "      <td>NaN</td>\n",
       "    </tr>\n",
       "    <tr>\n",
       "      <th>187560</th>\n",
       "      <td>None</td>\n",
       "      <td>STIMA ENERGIA</td>\n",
       "      <td>25.099.255/0001-84</td>\n",
       "      <td>NaN</td>\n",
       "    </tr>\n",
       "    <tr>\n",
       "      <th>187561</th>\n",
       "      <td>None</td>\n",
       "      <td>TRADENER</td>\n",
       "      <td>02.691.745/0001-70</td>\n",
       "      <td>NaN</td>\n",
       "    </tr>\n",
       "    <tr>\n",
       "      <th>187562</th>\n",
       "      <td>None</td>\n",
       "      <td>ALUPAR</td>\n",
       "      <td>08.364.948/0001-38</td>\n",
       "      <td>NaN</td>\n",
       "    </tr>\n",
       "    <tr>\n",
       "      <th>187564</th>\n",
       "      <td>None</td>\n",
       "      <td>COPEL COM</td>\n",
       "      <td>19.125.927/0001-86</td>\n",
       "      <td>NaN</td>\n",
       "    </tr>\n",
       "    <tr>\n",
       "      <th>187565</th>\n",
       "      <td>None</td>\n",
       "      <td>SAFIRA COM</td>\n",
       "      <td>09.495.582/0001-07</td>\n",
       "      <td>NaN</td>\n",
       "    </tr>\n",
       "    <tr>\n",
       "      <th>187587</th>\n",
       "      <td>None</td>\n",
       "      <td>ELETRON</td>\n",
       "      <td>15.087.610/0001-41</td>\n",
       "      <td>NaN</td>\n",
       "    </tr>\n",
       "  </tbody>\n",
       "</table>\n",
       "</div>"
      ],
      "text/plain": [
       "       Sigla Parcela - Usina Perfil Agente - Vendedor CNPJ Agente - Vendedor  \\\n",
       "187556                  None                    ARGON     21.642.355/0001-54   \n",
       "187557                  None               BRASIL COM     13.145.928/0001-06   \n",
       "187558                  None              ELETRONORTE     00.357.038/0001-16   \n",
       "187559                  None                STATKRAFT     08.573.833/0001-53   \n",
       "187560                  None            STIMA ENERGIA     25.099.255/0001-84   \n",
       "187561                  None                 TRADENER     02.691.745/0001-70   \n",
       "187562                  None                   ALUPAR     08.364.948/0001-38   \n",
       "187564                  None                COPEL COM     19.125.927/0001-86   \n",
       "187565                  None               SAFIRA COM     09.495.582/0001-07   \n",
       "187587                  None                  ELETRON     15.087.610/0001-41   \n",
       "\n",
       "       CEG do Empreendimento  \n",
       "187556                   NaN  \n",
       "187557                   NaN  \n",
       "187558                   NaN  \n",
       "187559                   NaN  \n",
       "187560                   NaN  \n",
       "187561                   NaN  \n",
       "187562                   NaN  \n",
       "187564                   NaN  \n",
       "187565                   NaN  \n",
       "187587                   NaN  "
      ]
     },
     "metadata": {},
     "output_type": "display_data"
    },
    {
     "ename": "ValueError",
     "evalue": "A tabela com CEGs faltantes foi exportada para identificação manual. Preencha o CEG com os casos que forem possível a identificação e continue a execução do script a partir da célula seguinte.",
     "output_type": "error",
     "traceback": [
      "\u001b[1;31m---------------------------------------------------------------------------\u001b[0m",
      "\u001b[1;31mValueError\u001b[0m                                Traceback (most recent call last)",
      "\u001b[1;32mc:\\Users\\viniciusbarros\\OneDrive - unb.br\\0Aneel\\Relatorio_Faturamento_Usinas\\Atualizacao_rrv.ipynb Célula: 11\u001b[0m in \u001b[0;36m<cell line: 11>\u001b[1;34m()\u001b[0m\n\u001b[0;32m     <a href='vscode-notebook-cell:/c%3A/Users/viniciusbarros/OneDrive%20-%20unb.br/0Aneel/Relatorio_Faturamento_Usinas/Atualizacao_rrv.ipynb#X13sZmlsZQ%3D%3D?line=10'>11</a>\u001b[0m \u001b[39mif\u001b[39;00m \u001b[39mlen\u001b[39m(faltantes_mes\u001b[39m.\u001b[39mindex) \u001b[39m>\u001b[39m \u001b[39m0\u001b[39m:\n\u001b[0;32m     <a href='vscode-notebook-cell:/c%3A/Users/viniciusbarros/OneDrive%20-%20unb.br/0Aneel/Relatorio_Faturamento_Usinas/Atualizacao_rrv.ipynb#X13sZmlsZQ%3D%3D?line=11'>12</a>\u001b[0m     faltantes_mes\u001b[39m.\u001b[39mto_excel(\u001b[39m\"\u001b[39m\u001b[39m./Intermediarios/Faltantes_mes.xlsx\u001b[39m\u001b[39m\"\u001b[39m,index\u001b[39m=\u001b[39m\u001b[39mFalse\u001b[39;00m)\n\u001b[1;32m---> <a href='vscode-notebook-cell:/c%3A/Users/viniciusbarros/OneDrive%20-%20unb.br/0Aneel/Relatorio_Faturamento_Usinas/Atualizacao_rrv.ipynb#X13sZmlsZQ%3D%3D?line=12'>13</a>\u001b[0m     \u001b[39mraise\u001b[39;00m \u001b[39mValueError\u001b[39;00m(\u001b[39m\"\u001b[39m\u001b[39mA tabela com CEGs faltantes foi exportada para identificação manual. Preencha o CEG com os casos que forem possível a identificação e continue a execução do script a partir da célula seguinte.\u001b[39m\u001b[39m\"\u001b[39m)\n",
      "\u001b[1;31mValueError\u001b[0m: A tabela com CEGs faltantes foi exportada para identificação manual. Preencha o CEG com os casos que forem possível a identificação e continue a execução do script a partir da célula seguinte."
     ]
    }
   ],
   "source": [
    "# Gera tabela de falantes no mes\n",
    "faltantes_mes = rrv[rrv[\"CEG do Empreendimento\"].isna()].drop_duplicates(subset=lista_colunas_match)\n",
    "\n",
    "faltantes_mes = faltantes_mes[lista_colunas_match+ [\"CEG do Empreendimento\"]]\n",
    "\n",
    "display(faltantes_mes)\n",
    "\n",
    "# Exporta para Excel e levanta erro para que o script seja interrompido e o usuário possa preencher a tabela\n",
    "# Após preenchida, excecutar todas linhas subsequentes\n",
    "\n",
    "if len(faltantes_mes.index) > 0:\n",
    "    faltantes_mes.to_excel(\"./Intermediarios/Faltantes_mes.xlsx\",index=False)\n",
    "    raise ValueError(\"A tabela com CEGs faltantes foi exportada para identificação manual. Preencha o CEG com os casos que forem possível a identificação e continue a execução do script a partir da célula seguinte.\")\n"
   ]
  },
  {
   "cell_type": "code",
   "execution_count": 12,
   "metadata": {},
   "outputs": [],
   "source": [
    "# Carrega arquivo com faltantes_mes e exclui linhas que não foram identificadas\n",
    "faltantes_mes = pd.read_excel(\"./Intermediarios/Faltantes_mes.xlsx\").dropna(subset=\"CEG do Empreendimento\")[lista_colunas_match + [\"CEG do Empreendimento\"]]\n",
    "# Adiciona ao arquivo faltantes os casos que foram identificados e constam no arquivo faltantes_mes\n",
    "faltantes = pd.concat([faltantes,faltantes_mes],ignore_index=True).drop_duplicates(subset=lista_colunas_match)[lista_colunas_match + [\"CEG do Empreendimento\"]]\n",
    "faltantes.to_excel(\"./Intermediarios/Faltantes.xlsx\",index=False)"
   ]
  },
  {
   "cell_type": "code",
   "execution_count": 13,
   "metadata": {},
   "outputs": [],
   "source": [
    "# Adiciona CEGs identificados\n",
    "cegs_identificados =  pd.merge(rrv[lista_colunas_match],faltantes_mes,on=lista_colunas_match,how=\"left\",validate=\"many_to_one\")[\"CEG do Empreendimento\"]\n",
    "cegs_identificados.index = rrv.index\n",
    "rrv.loc[rrv[\"CEG do Empreendimento\"].isna(),\"CEG do Empreendimento\"] = cegs_identificados"
   ]
  },
  {
   "cell_type": "code",
   "execution_count": 14,
   "metadata": {},
   "outputs": [],
   "source": [
    "# Rendas com CEG não indentificado\n",
    "rrv_nao_ident = rrv.loc[rrv[\"CEG do Empreendimento\"].isna()][lista_colunas_match + [\"(S) TOT_RV_D p,t,l,e,m\",\"Data\"]]\n",
    "rrv_nao_ident = rrv_nao_ident[rrv_nao_ident[\"(S) TOT_RV_D p,t,l,e,m\"] > 0]"
   ]
  },
  {
   "cell_type": "code",
   "execution_count": 15,
   "metadata": {},
   "outputs": [
    {
     "data": {
      "text/plain": [
       "Evento                       False\n",
       "Mês/Ano                      False\n",
       "CEG do Empreendimento        False\n",
       "Sigla Parcela - Usina        False\n",
       "(S) TOT_RV_D p,t,l,e,m       False\n",
       "Perfil Agente - Vendedor     False\n",
       "Perfil Agente - Comprador    False\n",
       "CNPJ Agente - Comprador      False\n",
       "CNPJ Agente - Vendedor       False\n",
       "Data                         False\n",
       "ID                           False\n",
       "dtype: bool"
      ]
     },
     "metadata": {},
     "output_type": "display_data"
    }
   ],
   "source": [
    "# Exclui linhas sem CEG\n",
    "rrv.dropna(subset=\"CEG do Empreendimento\",inplace=True)\n",
    "rrv[\"ID\"] = extrair_info_ceg(rrv[\"CEG do Empreendimento\"])[\"ID\"]\n",
    "display(rrv.isna().any())"
   ]
  },
  {
   "cell_type": "code",
   "execution_count": 16,
   "metadata": {},
   "outputs": [],
   "source": [
    "# Colunas para exportação\n",
    "colunas_export = [\"Data\",\"ID\",\"Sigla Parcela - Usina\",\"CNPJ Agente - Vendedor\",\"(S) TOT_RV_D p,t,l,e,m\"]\n",
    "rrv = rrv[colunas_export]"
   ]
  },
  {
   "cell_type": "code",
   "execution_count": 17,
   "metadata": {},
   "outputs": [],
   "source": [
    "# Baixa arquivos de 2020 que foram gerados no script Identificacao_usinas_2020\n",
    "rrv_2020 = pd.read_parquet(\"./Intermediarios/RV_17_2020.gzip\")[colunas_export]\n",
    "rrv_nao_ident_2020 = pd.read_parquet(\"./Intermediarios/rrv_nao_ident_2020.gzip\")[colunas_export]\n",
    "rrv_preliminar = pd.read_parquet(\"./Intermediarios/RV_17_2020.gzip\")[colunas_export]\n",
    "\n",
    "# Agrega dados atuais com os de 2020\n",
    "if rrv[rrv.Data.isin(rrv_2020.Data)].size > 0:\n",
    "    raise ValueError(\"Dados de 2020 já estão em ./Intermediarios/RV_17_2020.gzip\")\n",
    "else:\n",
    "    rrv = pd.concat([rrv_2020,rrv],axis=0,ignore_index=True)\n",
    "    rrv_nao_ident = pd.concat([rrv_nao_ident,rrv_nao_ident_2020],axis=0,ignore_index=True).sort_values(by=\"Data\")\n",
    "del rrv_nao_ident[\"ID\"]"
   ]
  },
  {
   "cell_type": "code",
   "execution_count": 18,
   "metadata": {},
   "outputs": [
    {
     "data": {
      "text/plain": [
       "ID       False\n",
       "Usina    False\n",
       "CEG      False\n",
       "dtype: bool"
      ]
     },
     "metadata": {},
     "output_type": "display_data"
    },
    {
     "data": {
      "text/plain": [
       "Data    False\n",
       "dtype: bool"
      ]
     },
     "metadata": {},
     "output_type": "display_data"
    }
   ],
   "source": [
    "# Gera tabela dimensão para o relatório em PowerBI\n",
    "rrv_dimensao = rrv.drop_duplicates(subset=\"ID\")[[\"ID\"]].reset_index(drop=True)\n",
    "rrv_dimensao = pd.merge(rrv_dimensao,relatorio_outorgas,on=\"ID\",validate=\"one_to_one\")\n",
    "datas = rrv.drop_duplicates(subset=\"Data\")[[\"Data\"]].reset_index(drop=True)\n",
    "display(rrv_dimensao.isna().any())\n",
    "display(datas.isna().any())\n"
   ]
  },
  {
   "cell_type": "code",
   "execution_count": 19,
   "metadata": {},
   "outputs": [],
   "source": [
    "# Salva dataframes em arquivo excel\n",
    "with pd.ExcelWriter('./Outputs/P_BI_base_RRV.xlsx',datetime_format=\"DD/MM/YYYY\",date_format=\"DD/MM/YYYY\") as writer:\n",
    "    datas.to_excel(writer,sheet_name='Datas',index=False)\n",
    "    rrv_dimensao.to_excel(writer,sheet_name='Tabela Dimensão',index=False)\n",
    "    rrv.to_excel(writer,sheet_name='RRV Final',index=False)\n",
    "    rrv_preliminar.to_excel(writer,sheet_name='RRV Preliminar',index=False)\n",
    "    rrv_nao_ident.to_excel(writer,sheet_name='RRV no_ident',index=False)"
   ]
  }
 ],
 "metadata": {
  "kernelspec": {
   "display_name": "Python 3.10.4 ('Aneel')",
   "language": "python",
   "name": "python3"
  },
  "language_info": {
   "codemirror_mode": {
    "name": "ipython",
    "version": 3
   },
   "file_extension": ".py",
   "mimetype": "text/x-python",
   "name": "python",
   "nbconvert_exporter": "python",
   "pygments_lexer": "ipython3",
   "version": "3.10.4"
  },
  "orig_nbformat": 4,
  "vscode": {
   "interpreter": {
    "hash": "480ca3e66d53f790d71f23a4e6fd5a0fb225c2e8e74302bbec1a2934ab7c2802"
   }
  }
 },
 "nbformat": 4,
 "nbformat_minor": 2
}
